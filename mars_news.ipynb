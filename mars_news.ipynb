{
 "cells": [
  {
   "cell_type": "markdown",
   "metadata": {},
   "source": [
    "## Deliverable 1: Scrape Titles & Preview Text from Mars News Articles ##"
   ]
  },
  {
   "cell_type": "code",
   "execution_count": 1,
   "metadata": {},
   "outputs": [],
   "source": [
    "# Import Splinter And BeautifulSoup\n",
    "from splinter import Browser\n",
    "from bs4 import BeautifulSoup as soup"
   ]
  },
  {
   "cell_type": "code",
   "execution_count": 2,
   "metadata": {
    "scrolled": true
   },
   "outputs": [],
   "source": [
    "browser = Browser('chrome')"
   ]
  },
  {
   "cell_type": "markdown",
   "metadata": {},
   "source": [
    "### Visit Mars News Website Through Automated Browsing, Inspect Elements to Scrape ###"
   ]
  },
  {
   "cell_type": "code",
   "execution_count": 3,
   "metadata": {},
   "outputs": [],
   "source": [
    "# Visit Mars News Website\n",
    "url = 'https://static.bc-edx.com/data/web/mars_news/index.html'\n",
    "browser.visit(url)"
   ]
  },
  {
   "cell_type": "markdown",
   "metadata": {},
   "source": [
    "### Scrape Mars News Website ###"
   ]
  },
  {
   "cell_type": "code",
   "execution_count": 4,
   "metadata": {},
   "outputs": [],
   "source": [
    "# Create Beautiful Soup Object, Parse HTML\n",
    "html = browser.html\n",
    "soup = soup(html, 'html.parser')"
   ]
  },
  {
   "cell_type": "code",
   "execution_count": 5,
   "metadata": {},
   "outputs": [
    {
     "name": "stdout",
     "output_type": "stream",
     "text": [
      "Article Date: November 9, 2022\n",
      "Article Title: NASA's MAVEN Observes Martian Light Show Caused by Major Solar Storm\n",
      "Article Teaser: For the first time in its eight years orbiting Mars, NASA’s MAVEN mission witnessed two different types of ultraviolet aurorae simultaneously, the result of solar storms that began on Aug. 27.\n",
      "\n",
      "\n",
      "Article Date: November 1, 2022\n",
      "Article Title: NASA Prepares to Say 'Farewell' to InSight Spacecraft\n",
      "Article Teaser: A closer look at what goes into wrapping up the mission as the spacecraft’s power supply continues to dwindle.\n",
      "\n",
      "\n",
      "Article Date: October 28, 2022\n",
      "Article Title: NASA and ESA Agree on Next Steps to Return Mars Samples to Earth\n",
      "Article Teaser: The agency’s Perseverance rover will establish the first sample depot on Mars.\n",
      "\n",
      "\n",
      "Article Date: October 27, 2022\n",
      "Article Title: NASA's InSight Lander Detects Stunning Meteoroid Impact on Mars\n",
      "Article Teaser: The agency’s lander felt the ground shake during the impact while cameras aboard the Mars Reconnaissance Orbiter spotted the yawning new crater from space.\n",
      "\n",
      "\n",
      "Article Date: October 21, 2022\n",
      "Article Title: NASA To Host Briefing on InSight, Mars Reconnaissance Orbiter Findings\n",
      "Article Teaser: Scientists from two Mars missions will discuss how they combined images and data for a major finding on the Red Planet.\n",
      "\n",
      "\n",
      "Article Date: October 20, 2022\n",
      "Article Title: Why NASA Is Trying To Crash Land on Mars\n",
      "Article Teaser: Like a car’s crumple zone, the experimental SHIELD lander is designed to absorb a hard impact.\n",
      "\n",
      "\n",
      "Article Date: October 19, 2022\n",
      "Article Title: Curiosity Mars Rover Reaches Long-Awaited Salty Region\n",
      "Article Teaser: After years of climbing, the Mars rover has arrived at a special region believed to have formed as Mars’ climate was drying.\n",
      "\n",
      "\n",
      "Article Date: October 12, 2022\n",
      "Article Title: Mars Mission Shields Up for Tests\n",
      "Article Teaser: Protecting Mars Sample Return spacecraft from micrometeorites requires high-caliber work.\n",
      "\n",
      "\n",
      "Article Date: October 7, 2022\n",
      "Article Title: NASA's InSight Waits Out Dust Storm\n",
      "Article Teaser: InSight’s team is taking steps to help the solar-powered lander continue operating for as long as possible.\n",
      "\n",
      "\n",
      "Article Date: September 19, 2022\n",
      "Article Title: NASA's InSight 'Hears' Its First Meteoroid Impacts on Mars\n",
      "Article Teaser: The Mars lander’s seismometer has picked up vibrations from four separate impacts in the past two years.\n",
      "\n",
      "\n",
      "Article Date: September 15, 2022\n",
      "Article Title: NASA's Perseverance Rover Investigates Geologically Rich Mars Terrain\n",
      "Article Teaser: The latest findings provide greater detail on a region of the Red Planet that has a watery past and is yielding promising samples for the NASA-ESA Mars Sample Return campaign.\n",
      "\n",
      "\n",
      "Article Date: September 12, 2022\n",
      "Article Title: NASA to Host Briefing on Perseverance Mars Rover Mission Operations\n",
      "Article Teaser: Members of the mission will discuss the rover’s activities as it gathers samples in an ancient river delta.\n",
      "\n",
      "\n",
      "Article Date: August 25, 2022\n",
      "Article Title: NASA's Perseverance Makes New Discoveries in Mars' Jezero Crater\n",
      "Article Teaser: The rover found that Jezero Crater’s floor is made up of volcanic rocks that have interacted with water.\n",
      "\n",
      "\n",
      "Article Date: August 5, 2022\n",
      "Article Title: 10 Years Since Landing, NASA's Curiosity Mars Rover Still Has Drive\n",
      "Article Teaser: Despite signs of wear, the intrepid spacecraft is about to start an exciting new chapter of its mission as it climbs a Martian mountain.\n",
      "\n",
      "\n",
      "Article Date: August 4, 2022\n",
      "Article Title: SAM's Top 5 Discoveries Aboard NASA's Curiosity Rover at Mars\n",
      "Article Teaser: “Selfie” of the Curiosity rover with inset showing the SAM instrument prior to installation on the rover.\n",
      "\n",
      "\n"
     ]
    }
   ],
   "source": [
    "# Extract All The List Text Elements For Each Article\n",
    "all_list_text = soup.find_all(class_=\"list_text\")\n",
    "\n",
    "# Print List Text Elements For Each Article\n",
    "for article in all_list_text:\n",
    "    print('Article Date:', article.find(class_=\"list_date\").text.strip()) \n",
    "    print('Article Title:', article.find(class_=\"content_title\").text.strip())\n",
    "    print('Article Teaser:', article.find(class_=\"article_teaser_body\").text.strip())\n",
    "    print('\\n')"
   ]
  },
  {
   "cell_type": "markdown",
   "metadata": {},
   "source": [
    "### Storage of Results ###"
   ]
  },
  {
   "cell_type": "code",
   "execution_count": 6,
   "metadata": {},
   "outputs": [],
   "source": [
    "# Create Empty List To Store The Dictionaries\n",
    "titles_previews = []"
   ]
  },
  {
   "cell_type": "code",
   "execution_count": 7,
   "metadata": {},
   "outputs": [],
   "source": [
    "# Loop Through All The List Text Elements, Extract Article Title/Preview, Store As Pairs In Dictionary\n",
    "for article in all_list_text:\n",
    "    article_title = article.find(class_=\"content_title\").text.strip()\n",
    "    article_preview = article.find(class_=\"article_teaser_body\").text.strip()\n",
    "    articles_dictionary = {\n",
    "        'Title': article_title,\n",
    "        'Preview': article_preview\n",
    "    }\n",
    "    \n",
    "    # Add Each Created Article Dictionary To List 'titles_previews'\n",
    "    titles_previews.append(articles_dictionary)"
   ]
  },
  {
   "cell_type": "code",
   "execution_count": 8,
   "metadata": {},
   "outputs": [
    {
     "data": {
      "text/plain": [
       "[{'Title': \"NASA's MAVEN Observes Martian Light Show Caused by Major Solar Storm\",\n",
       "  'Preview': 'For the first time in its eight years orbiting Mars, NASA’s MAVEN mission witnessed two different types of ultraviolet aurorae simultaneously, the result of solar storms that began on Aug. 27.'},\n",
       " {'Title': \"NASA Prepares to Say 'Farewell' to InSight Spacecraft\",\n",
       "  'Preview': 'A closer look at what goes into wrapping up the mission as the spacecraft’s power supply continues to dwindle.'},\n",
       " {'Title': 'NASA and ESA Agree on Next Steps to Return Mars Samples to Earth',\n",
       "  'Preview': 'The agency’s Perseverance rover will establish the first sample depot on Mars.'},\n",
       " {'Title': \"NASA's InSight Lander Detects Stunning Meteoroid Impact on Mars\",\n",
       "  'Preview': 'The agency’s lander felt the ground shake during the impact while cameras aboard the Mars Reconnaissance Orbiter spotted the yawning new crater from space.'},\n",
       " {'Title': 'NASA To Host Briefing on InSight, Mars Reconnaissance Orbiter Findings',\n",
       "  'Preview': 'Scientists from two Mars missions will discuss how they combined images and data for a major finding on the Red Planet.'},\n",
       " {'Title': 'Why NASA Is Trying To Crash Land on Mars',\n",
       "  'Preview': 'Like a car’s crumple zone, the experimental SHIELD lander is designed to absorb a hard impact.'},\n",
       " {'Title': 'Curiosity Mars Rover Reaches Long-Awaited Salty Region',\n",
       "  'Preview': 'After years of climbing, the Mars rover has arrived at a special region believed to have formed as Mars’ climate was drying.'},\n",
       " {'Title': 'Mars Mission Shields Up for Tests',\n",
       "  'Preview': 'Protecting Mars Sample Return spacecraft from micrometeorites requires high-caliber work.'},\n",
       " {'Title': \"NASA's InSight Waits Out Dust Storm\",\n",
       "  'Preview': 'InSight’s team is taking steps to help the solar-powered lander continue operating for as long as possible.'},\n",
       " {'Title': \"NASA's InSight 'Hears' Its First Meteoroid Impacts on Mars\",\n",
       "  'Preview': 'The Mars lander’s seismometer has picked up vibrations from four separate impacts in the past two years.'},\n",
       " {'Title': \"NASA's Perseverance Rover Investigates Geologically Rich Mars Terrain\",\n",
       "  'Preview': 'The latest findings provide greater detail on a region of the Red Planet that has a watery past and is yielding promising samples for the NASA-ESA Mars Sample Return campaign.'},\n",
       " {'Title': 'NASA to Host Briefing on Perseverance Mars Rover Mission Operations',\n",
       "  'Preview': 'Members of the mission will discuss the rover’s activities as it gathers samples in an ancient river delta.'},\n",
       " {'Title': \"NASA's Perseverance Makes New Discoveries in Mars' Jezero Crater\",\n",
       "  'Preview': 'The rover found that Jezero Crater’s floor is made up of volcanic rocks that have interacted with water.'},\n",
       " {'Title': \"10 Years Since Landing, NASA's Curiosity Mars Rover Still Has Drive\",\n",
       "  'Preview': 'Despite signs of wear, the intrepid spacecraft is about to start an exciting new chapter of its mission as it climbs a Martian mountain.'},\n",
       " {'Title': \"SAM's Top 5 Discoveries Aboard NASA's Curiosity Rover at Mars\",\n",
       "  'Preview': '“Selfie” of the Curiosity rover with inset showing the SAM instrument prior to installation on the rover.'}]"
      ]
     },
     "execution_count": 8,
     "metadata": {},
     "output_type": "execute_result"
    }
   ],
   "source": [
    "# Print The 'titles_previews' List To Confirm Success\n",
    "titles_previews"
   ]
  },
  {
   "cell_type": "code",
   "execution_count": 9,
   "metadata": {},
   "outputs": [],
   "source": [
    "browser.quit()"
   ]
  }
 ],
 "metadata": {
  "kernelspec": {
   "display_name": "Python 3 (ipykernel)",
   "language": "python",
   "name": "python3"
  },
  "language_info": {
   "codemirror_mode": {
    "name": "ipython",
    "version": 3
   },
   "file_extension": ".py",
   "mimetype": "text/x-python",
   "name": "python",
   "nbconvert_exporter": "python",
   "pygments_lexer": "ipython3",
   "version": "3.10.13"
  },
  "vscode": {
   "interpreter": {
    "hash": "31f2aee4e71d21fbe5cf8b01ff0e069b9275f58929596ceb00d14d90e3e16cd6"
   }
  }
 },
 "nbformat": 4,
 "nbformat_minor": 4
}
